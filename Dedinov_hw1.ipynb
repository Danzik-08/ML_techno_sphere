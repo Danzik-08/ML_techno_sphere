{
 "cells": [
  {
   "cell_type": "markdown",
   "metadata": {},
   "source": [
    "**Общая информация**\n",
    "\n",
    "**Срок сдачи:** 29 марта 2021, 08:30 \n",
    "\n",
    "**Штраф за опоздание:** по 1 баллу за 24 часа задержки. Через 5 дней домашнее задание сгорает.\n",
    "\n",
    "При отправлении ДЗ указывайте фамилию в названии файла\n",
    "Присылать ДЗ необходимо в виде ссылки на свой github репозиторий на почту ml1.sphere@mail.ru с указанием темы в следующем формате:\n",
    "\n",
    "[ML0220, Задание 1] Фамилия Имя.\n",
    "\n",
    "Используйте данный Ipython Notebook при оформлении домашнего задания."
   ]
  },
  {
   "cell_type": "markdown",
   "metadata": {},
   "source": [
    "\n",
    "**Штрафные баллы:**\n",
    "\n",
    "1. Отсутствие фамилии в имени скрипта (скрипт должен называться по аналогии со stroykova_hw1.ipynb) -0.5 баллов\n",
    "2. Все строчки должны быть выполнены. Нужно, чтобы output команды можно было увидеть уже в git'е. В противном случае -0.5 баллов\n"
   ]
  },
  {
   "cell_type": "code",
   "execution_count": 1,
   "metadata": {},
   "outputs": [],
   "source": [
    "import numpy as np\n",
    "import pandas as pd\n",
    "import matplotlib.pyplot as plt\n",
    "\n",
    "import seaborn as sns\n",
    "from sklearn import datasets\n",
    "from sklearn.base import BaseEstimator\n",
    "from sklearn.datasets import fetch_openml, fetch_20newsgroups\n",
    "from sklearn.feature_extraction.text import CountVectorizer\n",
    "\n",
    "from sklearn.model_selection import train_test_split\n",
    "from sklearn.neighbors import KNeighborsClassifier\n",
    "from sklearn.metrics import accuracy_score\n",
    "from sklearn.neighbors import KDTree\n",
    "from scipy.spatial import distance\n",
    "from sklearn.neighbors import DistanceMetric\n",
    "import operator"
   ]
  },
  {
   "cell_type": "markdown",
   "metadata": {},
   "source": [
    "##### Задание 1 (1 балл)\n",
    "Реализовать KNN в классе MyKNeighborsClassifier (обязательное условие: точность не ниже sklearn реализации)\n",
    "Разберитесь самостоятельно, какая мера расстояния используется в KNeighborsClassifier дефолтно и реализуйте свой алгоритм именно с этой мерой. \n",
    "Для подсчета расстояний можно использовать функции [отсюда](https://docs.scipy.org/doc/scipy/reference/spatial.distance.html)"
   ]
  },
  {
   "cell_type": "code",
   "execution_count": 2,
   "metadata": {},
   "outputs": [],
   "source": [
    "def func(a):\n",
    "    i,j = np.unique(a,return_counts = True)\n",
    "    return i[np.argmax(j)]"
   ]
  },
  {
   "cell_type": "code",
   "execution_count": 3,
   "metadata": {},
   "outputs": [],
   "source": [
    "class MyKNeighborsClassifier(BaseEstimator):\n",
    "    \n",
    "    def __init__(self, n_neighbors, algorithm='brute', metrics = 'minkowski'):\n",
    "        self.n_neighbors = n_neighbors\n",
    "        self.algorithm = algorithm\n",
    "        self.metrics = metrics\n",
    "        \n",
    "    def fit(self, X, y):\n",
    "        self.X_train = X\n",
    "        self.y_train = y\n",
    "        pass\n",
    "    \n",
    "    def predict(self, X):\n",
    "        self.X_test = np.asarray(X)\n",
    "        if self.algorithm == 'kd_tree':\n",
    "            if self.metrics == 'cosine':\n",
    "                tree = KDTree(self.X_train,leaf_size = 40, metric = 'cosine')\n",
    "            else:\n",
    "                tree = KDTree(self.X_train)\n",
    "            dist, ind = tree.query(self.X_test, k=self.n_neighbors)\n",
    "            s = self.y_train[ind]\n",
    "        else:\n",
    "            y_pred = np.asarray([])\n",
    "            if self.metrics == 'cosine':\n",
    "                dist = distance.cdist(self.X_test,self.X_train,'cosine')\n",
    "            else:\n",
    "                dist = distance.cdist(self.X_test,self.X_train,'minkowski')\n",
    "            s = self.y_train[np.argsort(dist,axis=1)[:,0:self.n_neighbors]]\n",
    "        y_pred = np.apply_along_axis(func,1,s)\n",
    "        return y_pred\n",
    "                          "
   ]
  },
  {
   "cell_type": "markdown",
   "metadata": {},
   "source": [
    "**IRIS**\n",
    "\n",
    "В библиотеке scikit-learn есть несколько датасетов из коробки. Один из них [Ирисы Фишера](https://ru.wikipedia.org/wiki/%D0%98%D1%80%D0%B8%D1%81%D1%8B_%D0%A4%D0%B8%D1%88%D0%B5%D1%80%D0%B0)"
   ]
  },
  {
   "cell_type": "code",
   "execution_count": 4,
   "metadata": {},
   "outputs": [],
   "source": [
    "iris = datasets.load_iris()"
   ]
  },
  {
   "cell_type": "code",
   "execution_count": 5,
   "metadata": {},
   "outputs": [],
   "source": [
    "X_train, X_test, y_train, y_test = train_test_split(iris.data, iris.target, test_size=0.1, stratify=iris.target)"
   ]
  },
  {
   "cell_type": "code",
   "execution_count": 6,
   "metadata": {},
   "outputs": [],
   "source": [
    "clf = KNeighborsClassifier(n_neighbors=2, algorithm='brute')\n",
    "my_clf = MyKNeighborsClassifier(n_neighbors=2, algorithm='brute')"
   ]
  },
  {
   "cell_type": "code",
   "execution_count": 7,
   "metadata": {},
   "outputs": [],
   "source": [
    "clf.fit(X_train, y_train)\n",
    "my_clf.fit(X_train, y_train)"
   ]
  },
  {
   "cell_type": "code",
   "execution_count": 8,
   "metadata": {},
   "outputs": [],
   "source": [
    "sklearn_pred = clf.predict(X_test)\n",
    "my_clf_pred = my_clf.predict(X_test)\n",
    "assert abs( accuracy_score(y_test, my_clf_pred) -  accuracy_score(y_test, sklearn_pred ) )<0.005, \"Score must be simillar\""
   ]
  },
  {
   "cell_type": "markdown",
   "metadata": {},
   "source": [
    "**Задание 2 (0.5 балла)**\n",
    "\n",
    "Давайте попробуем добиться скорости работы на fit, predict сравнимой со sklearn для iris. Допускается замедление не более чем в 2 раза. \n",
    "Для этого используем numpy. "
   ]
  },
  {
   "cell_type": "code",
   "execution_count": 9,
   "metadata": {},
   "outputs": [
    {
     "name": "stdout",
     "output_type": "stream",
     "text": [
      "Wall time: 0 ns\n"
     ]
    },
    {
     "data": {
      "text/plain": [
       "KNeighborsClassifier(algorithm='brute', n_neighbors=2)"
      ]
     },
     "execution_count": 9,
     "metadata": {},
     "output_type": "execute_result"
    }
   ],
   "source": [
    "%time clf.fit(X_train, y_train)"
   ]
  },
  {
   "cell_type": "code",
   "execution_count": 10,
   "metadata": {},
   "outputs": [
    {
     "name": "stdout",
     "output_type": "stream",
     "text": [
      "Wall time: 0 ns\n"
     ]
    }
   ],
   "source": [
    "%time my_clf.fit(X_train, y_train)"
   ]
  },
  {
   "cell_type": "code",
   "execution_count": 11,
   "metadata": {},
   "outputs": [
    {
     "name": "stdout",
     "output_type": "stream",
     "text": [
      "Wall time: 4.72 ms\n"
     ]
    },
    {
     "data": {
      "text/plain": [
       "array([2, 0, 0, 2, 1, 0, 1, 1, 0, 1, 0, 2, 2, 1, 2])"
      ]
     },
     "execution_count": 11,
     "metadata": {},
     "output_type": "execute_result"
    }
   ],
   "source": [
    "%time clf.predict(X_test)"
   ]
  },
  {
   "cell_type": "code",
   "execution_count": 12,
   "metadata": {},
   "outputs": [
    {
     "name": "stdout",
     "output_type": "stream",
     "text": [
      "Wall time: 4.46 ms\n"
     ]
    },
    {
     "data": {
      "text/plain": [
       "array([2, 0, 0, 2, 1, 0, 1, 1, 0, 1, 0, 2, 2, 1, 2])"
      ]
     },
     "execution_count": 12,
     "metadata": {},
     "output_type": "execute_result"
    }
   ],
   "source": [
    "%time my_clf.predict(X_test)"
   ]
  },
  {
   "cell_type": "markdown",
   "metadata": {},
   "source": [
    "###### Задание 3 (1 балл)\n",
    "Добавьте algorithm='kd_tree' в реализацию KNN (использовать KDTree из sklearn.neighbors). Необходимо добиться скорости работы на fit,  predict сравнимой со sklearn для iris. Допускается замедление не более чем в 2 раза. \n",
    "Для этого используем numpy. Точность не должна уступать значению KNN из sklearn. "
   ]
  },
  {
   "cell_type": "code",
   "execution_count": 13,
   "metadata": {},
   "outputs": [],
   "source": [
    "clf = KNeighborsClassifier(n_neighbors=2, algorithm='kd_tree')\n",
    "my_clf = MyKNeighborsClassifier(n_neighbors=2, algorithm='kd_tree')"
   ]
  },
  {
   "cell_type": "code",
   "execution_count": 14,
   "metadata": {},
   "outputs": [],
   "source": [
    "X_train, X_test, y_train, y_test = train_test_split(iris.data, iris.target, test_size=0.1, stratify=iris.target)"
   ]
  },
  {
   "cell_type": "code",
   "execution_count": 15,
   "metadata": {},
   "outputs": [
    {
     "name": "stdout",
     "output_type": "stream",
     "text": [
      "Wall time: 3.21 ms\n"
     ]
    },
    {
     "data": {
      "text/plain": [
       "KNeighborsClassifier(algorithm='kd_tree', n_neighbors=2)"
      ]
     },
     "execution_count": 15,
     "metadata": {},
     "output_type": "execute_result"
    }
   ],
   "source": [
    "%time clf.fit(X_train, y_train)"
   ]
  },
  {
   "cell_type": "code",
   "execution_count": 16,
   "metadata": {},
   "outputs": [
    {
     "name": "stdout",
     "output_type": "stream",
     "text": [
      "Wall time: 0 ns\n"
     ]
    }
   ],
   "source": [
    "%time my_clf.fit(X_train, y_train)"
   ]
  },
  {
   "cell_type": "code",
   "execution_count": 17,
   "metadata": {},
   "outputs": [
    {
     "name": "stdout",
     "output_type": "stream",
     "text": [
      "Wall time: 4.91 ms\n"
     ]
    },
    {
     "data": {
      "text/plain": [
       "array([0, 0, 2, 2, 2, 0, 2, 0, 1, 1, 0, 1, 1, 1, 2])"
      ]
     },
     "execution_count": 17,
     "metadata": {},
     "output_type": "execute_result"
    }
   ],
   "source": [
    "%time clf.predict(X_test)"
   ]
  },
  {
   "cell_type": "code",
   "execution_count": 18,
   "metadata": {},
   "outputs": [
    {
     "name": "stdout",
     "output_type": "stream",
     "text": [
      "Wall time: 0 ns\n"
     ]
    },
    {
     "data": {
      "text/plain": [
       "array([0, 0, 2, 2, 2, 0, 2, 0, 1, 1, 0, 1, 1, 1, 2])"
      ]
     },
     "execution_count": 18,
     "metadata": {},
     "output_type": "execute_result"
    }
   ],
   "source": [
    "%time my_clf.predict(X_test)"
   ]
  },
  {
   "cell_type": "code",
   "execution_count": 19,
   "metadata": {},
   "outputs": [],
   "source": [
    "sklearn_pred = clf.predict(X_test)\n",
    "my_clf_pred = my_clf.predict(X_test)\n",
    "assert abs( accuracy_score(y_test, my_clf_pred) -  accuracy_score(y_test, sklearn_pred ) )<0.005, \"Score must be simillar\""
   ]
  },
  {
   "cell_type": "markdown",
   "metadata": {},
   "source": [
    "**Задание 4 (2.5 балла)**\n",
    "\n",
    "Рассмотрим новый датасет 20 newsgroups"
   ]
  },
  {
   "cell_type": "code",
   "execution_count": 20,
   "metadata": {},
   "outputs": [],
   "source": [
    "newsgroups = fetch_20newsgroups(subset='train',remove=['headers','footers', 'quotes'])"
   ]
  },
  {
   "cell_type": "code",
   "execution_count": 21,
   "metadata": {},
   "outputs": [],
   "source": [
    "data = newsgroups['data']\n",
    "target = newsgroups['target']"
   ]
  },
  {
   "cell_type": "markdown",
   "metadata": {},
   "source": [
    "Преобразуйте текстовые данные из data с помощью [CountVectorizer](https://scikit-learn.org/stable/modules/generated/sklearn.feature_extraction.text.CountVectorizer.html). Словарь можно ограничить по частотности."
   ]
  },
  {
   "cell_type": "code",
   "execution_count": 51,
   "metadata": {},
   "outputs": [],
   "source": [
    "count_vect = CountVectorizer(max_features = 500)\n",
    "X = count_vect.fit_transform(newsgroups.data).toarray()\n",
    "y = target"
   ]
  },
  {
   "cell_type": "code",
   "execution_count": 39,
   "metadata": {},
   "outputs": [
    {
     "data": {
      "text/plain": [
       "{'car': 193,\n",
       " 'saw': 789,\n",
       " 'day': 284,\n",
       " 'looked': 555,\n",
       " 'late': 523,\n",
       " 'early': 330,\n",
       " 'called': 189,\n",
       " 'really': 744,\n",
       " 'small': 831,\n",
       " 'addition': 90,\n",
       " 'rest': 769,\n",
       " 'body': 170,\n",
       " 'know': 515,\n",
       " 'model': 603,\n",
       " 'engine': 343,\n",
       " 'years': 996,\n",
       " 'history': 454,\n",
       " 'info': 479,\n",
       " 'looking': 556,\n",
       " 'mail': 569,\n",
       " 'number': 636,\n",
       " 'send': 808,\n",
       " 'message': 596,\n",
       " 'speed': 848,\n",
       " 'add': 89,\n",
       " 'cards': 195,\n",
       " 'floppy': 385,\n",
       " 'disk': 313,\n",
       " '800': 73,\n",
       " 'especially': 349,\n",
       " 'days': 285,\n",
       " 'network': 624,\n",
       " 'knowledge': 516,\n",
       " 'base': 150,\n",
       " 'haven': 442,\n",
       " 'thanks': 893,\n",
       " 'folks': 386,\n",
       " 'mac': 566,\n",
       " 'plus': 689,\n",
       " 'finally': 382,\n",
       " 'gave': 404,\n",
       " 'life': 537,\n",
       " 'way': 961,\n",
       " 'market': 579,\n",
       " 'new': 625,\n",
       " 'machine': 567,\n",
       " 'bit': 164,\n",
       " 'maybe': 584,\n",
       " 'questions': 735,\n",
       " 'answer': 108,\n",
       " 'does': 318,\n",
       " 'anybody': 111,\n",
       " 'heard': 447,\n",
       " 'supposed': 871,\n",
       " 'make': 572,\n",
       " 'don': 321,\n",
       " 'access': 84,\n",
       " 'price': 710,\n",
       " 'line': 542,\n",
       " 'like': 539,\n",
       " 'ones': 647,\n",
       " 'just': 507,\n",
       " 'went': 966,\n",
       " 'recently': 750,\n",
       " 'display': 314,\n",
       " 'probably': 715,\n",
       " 'got': 421,\n",
       " 'feel': 376,\n",
       " 'better': 158,\n",
       " 'looks': 557,\n",
       " 'great': 425,\n",
       " 'good': 420,\n",
       " 'opinions': 650,\n",
       " 'people': 670,\n",
       " 'use': 931,\n",
       " 'worth': 986,\n",
       " 'taking': 877,\n",
       " 'size': 829,\n",
       " 'money': 605,\n",
       " 'hit': 455,\n",
       " 'real': 743,\n",
       " 'question': 734,\n",
       " 've': 944,\n",
       " 'machines': 568,\n",
       " 'computer': 249,\n",
       " 'actually': 88,\n",
       " 'uses': 937,\n",
       " 'advance': 93,\n",
       " 'email': 339,\n",
       " 'll': 549,\n",
       " 'post': 700,\n",
       " 'news': 626,\n",
       " 'reading': 742,\n",
       " 'time': 900,\n",
       " 'edu': 336,\n",
       " 'address': 91,\n",
       " 'phone': 676,\n",
       " 'information': 480,\n",
       " 'chip': 214,\n",
       " 'article': 132,\n",
       " 'world': 985,\n",
       " 'com': 235,\n",
       " 'basically': 153,\n",
       " 'known': 517,\n",
       " 'software': 833,\n",
       " 'things': 896,\n",
       " 'right': 773,\n",
       " 'values': 941,\n",
       " 'aren': 125,\n",
       " 'set': 815,\n",
       " 'launch': 525,\n",
       " 'code': 233,\n",
       " 'possibly': 699,\n",
       " 'tell': 887,\n",
       " 'ok': 645,\n",
       " 'course': 267,\n",
       " 'term': 888,\n",
       " 'doubt': 323,\n",
       " 'using': 938,\n",
       " 'read': 741,\n",
       " 'argument': 126,\n",
       " 'weapons': 963,\n",
       " 'mass': 580,\n",
       " 'point': 690,\n",
       " 'allowed': 102,\n",
       " 'later': 524,\n",
       " 'analysis': 106,\n",
       " 'given': 410,\n",
       " 'consider': 253,\n",
       " 'class': 227,\n",
       " 'request': 763,\n",
       " 'couldn': 264,\n",
       " 'thank': 892,\n",
       " 'directly': 310,\n",
       " 'thought': 899,\n",
       " 'sure': 872,\n",
       " 'instead': 484,\n",
       " 'trying': 915,\n",
       " 'file': 379,\n",
       " 'scsi': 798,\n",
       " 'range': 739,\n",
       " 'controller': 260,\n",
       " 'note': 634,\n",
       " 'version': 945,\n",
       " 'exist': 356,\n",
       " 'pc': 668,\n",
       " 'mode': 602,\n",
       " '16': 17,\n",
       " 'wide': 968,\n",
       " 'fast': 370,\n",
       " '32': 45,\n",
       " '15': 16,\n",
       " 'data': 280,\n",
       " 'correct': 262,\n",
       " '20': 28,\n",
       " 'faster': 371,\n",
       " 'ide': 466,\n",
       " 'posted': 701,\n",
       " 'newsgroup': 627,\n",
       " 'ibm': 465,\n",
       " 'available': 143,\n",
       " 'ftp': 396,\n",
       " '36': 50,\n",
       " '44': 59,\n",
       " 'report': 760,\n",
       " 'problem': 716,\n",
       " 'apple': 114,\n",
       " 'said': 784,\n",
       " 'interface': 489,\n",
       " 'think': 897,\n",
       " 'true': 912,\n",
       " 'win': 971,\n",
       " 'figure': 378,\n",
       " 'change': 207,\n",
       " 'help': 450,\n",
       " 'appreciated': 118,\n",
       " 'board': 169,\n",
       " 'year': 995,\n",
       " 'work': 981,\n",
       " 'technology': 886,\n",
       " 'writing': 989,\n",
       " 'memory': 592,\n",
       " 'lost': 559,\n",
       " 'reference': 753,\n",
       " 'wrong': 991,\n",
       " 'problems': 717,\n",
       " 'hard': 440,\n",
       " 'say': 790,\n",
       " 'usually': 939,\n",
       " 'mentioned': 595,\n",
       " 'unless': 929,\n",
       " 'installed': 483,\n",
       " 'product': 719,\n",
       " 'related': 754,\n",
       " 'makes': 573,\n",
       " 'buy': 184,\n",
       " 'runs': 781,\n",
       " '1st': 26,\n",
       " 'bike': 163,\n",
       " 'want': 954,\n",
       " 'thinking': 898,\n",
       " 'nice': 629,\n",
       " 'org': 653,\n",
       " 'dod': 317,\n",
       " 'pretty': 708,\n",
       " 'understand': 923,\n",
       " 'jewish': 500,\n",
       " 'jews': 501,\n",
       " 'believe': 156,\n",
       " 'case': 199,\n",
       " 'moral': 609,\n",
       " 'follow': 387,\n",
       " 'required': 765,\n",
       " 'man': 575,\n",
       " 'christian': 218,\n",
       " 'outside': 658,\n",
       " 'trouble': 911,\n",
       " 'created': 271,\n",
       " 'image': 470,\n",
       " 'means': 588,\n",
       " 'different': 307,\n",
       " 'come': 236,\n",
       " 'wants': 956,\n",
       " 'living': 547,\n",
       " 'christ': 217,\n",
       " 'example': 354,\n",
       " 'little': 545,\n",
       " 'jesus': 499,\n",
       " 'person': 674,\n",
       " 'second': 800,\n",
       " 'hand': 435,\n",
       " 'christianity': 219,\n",
       " 'bible': 161,\n",
       " 'guess': 430,\n",
       " 'faith': 366,\n",
       " 'comes': 237,\n",
       " 'multiple': 614,\n",
       " 'child': 212,\n",
       " 'assume': 137,\n",
       " 'simply': 823,\n",
       " 'told': 904,\n",
       " 'pub': 729,\n",
       " 'children': 213,\n",
       " 'quite': 736,\n",
       " 'happy': 439,\n",
       " 'hold': 457,\n",
       " 'water': 960,\n",
       " 'knows': 518,\n",
       " 'type': 921,\n",
       " 'young': 999,\n",
       " 'gets': 407,\n",
       " 'david': 283,\n",
       " 'religion': 756,\n",
       " 'deleted': 294,\n",
       " 'let': 533,\n",
       " 'list': 544,\n",
       " 'today': 903,\n",
       " '23': 32,\n",
       " 'york': 998,\n",
       " 'times': 901,\n",
       " 'reports': 762,\n",
       " 'used': 932,\n",
       " 'space': 845,\n",
       " 'building': 180,\n",
       " 'station': 856,\n",
       " 'shuttle': 820,\n",
       " 'currently': 276,\n",
       " 'considered': 254,\n",
       " 'reported': 761,\n",
       " 'low': 563,\n",
       " 'cost': 263,\n",
       " 'approach': 119,\n",
       " 'team': 883,\n",
       " 'teams': 884,\n",
       " 'city': 224,\n",
       " 'site': 826,\n",
       " 'key': 508,\n",
       " 'bus': 182,\n",
       " 'provides': 727,\n",
       " 'communications': 243,\n",
       " 'air': 98,\n",
       " 'force': 390,\n",
       " 'power': 703,\n",
       " 'provide': 725,\n",
       " 'environment': 346,\n",
       " 'source': 841,\n",
       " '30': 42,\n",
       " 'human': 464,\n",
       " 'old': 646,\n",
       " 'common': 242,\n",
       " 'international': 491,\n",
       " 'place': 683,\n",
       " '60': 64,\n",
       " 'return': 772,\n",
       " 'freedom': 394,\n",
       " 'based': 151,\n",
       " 'mike': 597,\n",
       " 'design': 297,\n",
       " 'love': 562,\n",
       " 'orbit': 651,\n",
       " 'build': 179,\n",
       " 'research': 767,\n",
       " 'non': 631,\n",
       " 'language': 521,\n",
       " '10': 8,\n",
       " 'supply': 868,\n",
       " '14': 14,\n",
       " 'control': 259,\n",
       " '24': 33,\n",
       " 'systems': 874,\n",
       " 'major': 571,\n",
       " 'changes': 209,\n",
       " 'offer': 641,\n",
       " 'black': 166,\n",
       " '12': 11,\n",
       " 'player': 687,\n",
       " 'graphics': 424,\n",
       " 'high': 452,\n",
       " 'tape': 880,\n",
       " 'sound': 839,\n",
       " '80': 72,\n",
       " '25': 34,\n",
       " 'includes': 476,\n",
       " '50': 61,\n",
       " 'head': 444,\n",
       " 'ask': 134,\n",
       " 'extra': 363,\n",
       " 'contact': 255,\n",
       " 'reply': 759,\n",
       " 'included': 475,\n",
       " 'reasonable': 746,\n",
       " 'look': 554,\n",
       " 'happened': 437,\n",
       " 'citizens': 223,\n",
       " 'war': 957,\n",
       " 'ii': 469,\n",
       " 'short': 818,\n",
       " 'final': 381,\n",
       " 'solution': 834,\n",
       " 'run': 779,\n",
       " 'total': 907,\n",
       " 'generally': 406,\n",
       " 'certainly': 205,\n",
       " 'works': 984,\n",
       " 'programs': 722,\n",
       " 'making': 574,\n",
       " 'files': 380,\n",
       " 'images': 471,\n",
       " 'save': 788,\n",
       " 'general': 405,\n",
       " 'fact': 365,\n",
       " 'saying': 791,\n",
       " 'goes': 418,\n",
       " 'format': 392,\n",
       " 'words': 980,\n",
       " 'page': 660,\n",
       " 'sort': 838,\n",
       " 'designed': 298,\n",
       " 'takes': 876,\n",
       " 'application': 115,\n",
       " 'complete': 247,\n",
       " 'job': 503,\n",
       " 'able': 81,\n",
       " 'applications': 116,\n",
       " 'program': 721,\n",
       " 'won': 978,\n",
       " 'deal': 289,\n",
       " 'asking': 136,\n",
       " 'kind': 513,\n",
       " 'single': 825,\n",
       " 'drivers': 327,\n",
       " 'performance': 672,\n",
       " 'cars': 198,\n",
       " 'received': 748,\n",
       " '27': 37,\n",
       " 'close': 232,\n",
       " '1992': 23,\n",
       " 'house': 462,\n",
       " 'taken': 875,\n",
       " 'security': 804,\n",
       " '500': 62,\n",
       " 'state': 853,\n",
       " 'insurance': 485,\n",
       " '100': 9,\n",
       " '000': 1,\n",
       " 'policy': 693,\n",
       " 'standard': 850,\n",
       " '300': 43,\n",
       " 'bought': 173,\n",
       " 'company': 246,\n",
       " '11': 10,\n",
       " 'hope': 459,\n",
       " 'steve': 858,\n",
       " 'university': 927,\n",
       " '45': 60,\n",
       " 'asked': 135,\n",
       " 'similar': 821,\n",
       " 'situation': 828,\n",
       " 'age': 94,\n",
       " 'record': 751,\n",
       " 'turn': 919,\n",
       " 'higher': 453,\n",
       " 'rate': 740,\n",
       " 'couple': 266,\n",
       " 'pay': 667,\n",
       " 'group': 428,\n",
       " '38': 52,\n",
       " 'usa': 930,\n",
       " 'live': 546,\n",
       " 'drive': 325,\n",
       " 'claim': 225,\n",
       " 'stop': 859,\n",
       " '18': 19,\n",
       " 'months': 608,\n",
       " 'going': 419,\n",
       " '55': 63,\n",
       " 'clear': 228,\n",
       " 'light': 538,\n",
       " '35': 49,\n",
       " 'didn': 304,\n",
       " '92': 77,\n",
       " 'law': 526,\n",
       " 'center': 203,\n",
       " 'play': 686,\n",
       " 'calls': 190,\n",
       " 'hell': 449,\n",
       " 'thing': 895,\n",
       " 'away': 146,\n",
       " 'experience': 360,\n",
       " 'ago': 95,\n",
       " 'interesting': 488,\n",
       " 'decided': 291,\n",
       " 'personal': 675,\n",
       " 'office': 642,\n",
       " 'happen': 436,\n",
       " 'lower': 564,\n",
       " 'division': 316,\n",
       " 'continue': 258,\n",
       " 'story': 860,\n",
       " 'cover': 269,\n",
       " 'sense': 809,\n",
       " 'book': 171,\n",
       " 'says': 792,\n",
       " 'reason': 745,\n",
       " 'reasons': 747,\n",
       " 'interested': 487,\n",
       " 'guy': 433,\n",
       " 'room': 777,\n",
       " 'longer': 553,\n",
       " 'opinion': 649,\n",
       " 'important': 473,\n",
       " '26': 36,\n",
       " '21': 30,\n",
       " 'california': 188,\n",
       " '28': 38,\n",
       " 'san': 786,\n",
       " 'getting': 408,\n",
       " 'vs': 951,\n",
       " '37': 51,\n",
       " '64': 65,\n",
       " 'st': 849,\n",
       " 'date': 281,\n",
       " 'view': 948,\n",
       " 'possible': 698,\n",
       " 'difference': 306,\n",
       " 'best': 157,\n",
       " '43': 58,\n",
       " '1990': 21,\n",
       " 'chicago': 211,\n",
       " 'did': 303,\n",
       " '93': 78,\n",
       " 'month': 607,\n",
       " '250': 35,\n",
       " '39': 53,\n",
       " 'try': 914,\n",
       " 'places': 684,\n",
       " 'changed': 208,\n",
       " 'output': 657,\n",
       " 'easily': 332,\n",
       " 'card': 194,\n",
       " 'seen': 805,\n",
       " 'simple': 822,\n",
       " 'entry': 345,\n",
       " 'unix': 928,\n",
       " 'running': 780,\n",
       " 'mit': 601,\n",
       " 'sun': 867,\n",
       " 'window': 972,\n",
       " 'tried': 910,\n",
       " 'matter': 582,\n",
       " 'wasn': 959,\n",
       " 'ed': 335,\n",
       " 'oh': 644,\n",
       " 'tools': 906,\n",
       " 'hardware': 441,\n",
       " 'xt': 994,\n",
       " 'free': 393,\n",
       " 'copy': 261,\n",
       " 'write': 988,\n",
       " 'stuff': 864,\n",
       " 'appears': 113,\n",
       " 'street': 861,\n",
       " 'ca': 186,\n",
       " 'fax': 373,\n",
       " 'support': 869,\n",
       " 'box': 174,\n",
       " 'left': 531,\n",
       " 'specific': 847,\n",
       " 'drives': 328,\n",
       " 'involved': 493,\n",
       " 'worked': 982,\n",
       " 'voice': 949,\n",
       " 'input': 481,\n",
       " 'user': 935,\n",
       " 'appreciate': 117,\n",
       " 'care': 196,\n",
       " 'avoid': 145,\n",
       " 'end': 341,\n",
       " 'big': 162,\n",
       " 'gas': 403,\n",
       " 'hot': 460,\n",
       " 'official': 643,\n",
       " 'yes': 997,\n",
       " 'service': 814,\n",
       " 'mind': 600,\n",
       " 'wish': 975,\n",
       " 'attack': 139,\n",
       " 'half': 434,\n",
       " 'truth': 913,\n",
       " 'earth': 331,\n",
       " 'god': 417,\n",
       " 'health': 445,\n",
       " 'future': 399,\n",
       " 'leave': 530,\n",
       " 'error': 347,\n",
       " 'response': 768,\n",
       " 'paul': 666,\n",
       " 'men': 593,\n",
       " 'points': 691,\n",
       " 'lot': 560,\n",
       " 'safety': 783,\n",
       " 'ground': 427,\n",
       " 'lots': 561,\n",
       " 'check': 210,\n",
       " 'local': 550,\n",
       " 'serial': 811,\n",
       " 'face': 364,\n",
       " 'sell': 807,\n",
       " 'came': 191,\n",
       " 'numbers': 637,\n",
       " 'son': 835,\n",
       " 'father': 372,\n",
       " 'appropriate': 120,\n",
       " 'anti': 110,\n",
       " 'condition': 250,\n",
       " 'shall': 816,\n",
       " 'subject': 865,\n",
       " 'cause': 201,\n",
       " 'soviet': 844,\n",
       " 'past': 665,\n",
       " 'define': 293,\n",
       " 'army': 131,\n",
       " 'south': 843,\n",
       " 'lines': 543,\n",
       " 'cut': 277,\n",
       " 'land': 520,\n",
       " 'population': 695,\n",
       " 'near': 618,\n",
       " '42': 57,\n",
       " 'members': 591,\n",
       " 'road': 775,\n",
       " 'killed': 512,\n",
       " 'isn': 494,\n",
       " 'week': 964,\n",
       " 'israel': 495,\n",
       " 'mention': 594,\n",
       " 'effect': 337,\n",
       " 'long': 552,\n",
       " 'obviously': 640,\n",
       " 'wouldn': 987,\n",
       " 'ah': 97,\n",
       " 'agree': 96,\n",
       " 'far': 369,\n",
       " 'goal': 416,\n",
       " 'drug': 329,\n",
       " 'strong': 862,\n",
       " 'encryption': 340,\n",
       " 'clipper': 231,\n",
       " 'privacy': 712,\n",
       " 'government': 423,\n",
       " 'public': 730,\n",
       " 'large': 522,\n",
       " 'gun': 431,\n",
       " 'word': 979,\n",
       " 'legal': 532,\n",
       " 'need': 620,\n",
       " 'cases': 200,\n",
       " 'congress': 252,\n",
       " 'tax': 882,\n",
       " 'enforcement': 342,\n",
       " 'likely': 540,\n",
       " 'court': 268,\n",
       " 'act': 86,\n",
       " 'willing': 970,\n",
       " 'wait': 953,\n",
       " 'having': 443,\n",
       " 'talk': 878,\n",
       " 'guns': 432,\n",
       " '34': 47,\n",
       " 'apr': 121,\n",
       " '1993': 24,\n",
       " 'technical': 885,\n",
       " 'imagine': 472,\n",
       " 'doing': 320,\n",
       " 'action': 87,\n",
       " 'transfer': 909,\n",
       " 'function': 397,\n",
       " 'carry': 197,\n",
       " 'series': 812,\n",
       " 'shot': 819,\n",
       " 'doesn': 319,\n",
       " 'open': 648,\n",
       " 'parts': 663,\n",
       " 'quality': 733,\n",
       " 'police': 692,\n",
       " 'self': 806,\n",
       " 'defense': 292,\n",
       " 'excellent': 355,\n",
       " 'necessary': 619,\n",
       " 'needed': 621,\n",
       " 'firearms': 384,\n",
       " 'department': 295,\n",
       " 'issue': 497,\n",
       " 'limited': 541,\n",
       " 'pick': 678,\n",
       " 'sorry': 837,\n",
       " 'previous': 709,\n",
       " 'basis': 154,\n",
       " 'dave': 282,\n",
       " 'game': 401,\n",
       " 'start': 851,\n",
       " 'bring': 176,\n",
       " 'home': 458,\n",
       " 'digital': 309,\n",
       " 'took': 905,\n",
       " '75': 68,\n",
       " 'bad': 149,\n",
       " 'giving': 412,\n",
       " 'games': 402,\n",
       " 'held': 448,\n",
       " 'mark': 578,\n",
       " 'sent': 810,\n",
       " 'certain': 204,\n",
       " 'season': 799,\n",
       " 'net': 623,\n",
       " 'easy': 334,\n",
       " 'max': 583,\n",
       " 'dr': 324,\n",
       " 'working': 983,\n",
       " 'project': 723,\n",
       " 'ideas': 468,\n",
       " 'completely': 248,\n",
       " 'process': 718,\n",
       " 'following': 388,\n",
       " 'current': 275,\n",
       " 'create': 270,\n",
       " 'study': 863,\n",
       " 'present': 705,\n",
       " 'christians': 220,\n",
       " 'mean': 586,\n",
       " 'hi': 451,\n",
       " '200': 29,\n",
       " 'printer': 711,\n",
       " 'driver': 326,\n",
       " 'windows': 973,\n",
       " 'die': 305,\n",
       " 'military': 598,\n",
       " 'armenian': 128,\n",
       " 'million': 599,\n",
       " 'turkish': 917,\n",
       " 'women': 977,\n",
       " 'armenians': 129,\n",
       " 'wrote': 992,\n",
       " 'lord': 558,\n",
       " 'special': 846,\n",
       " 'library': 536,\n",
       " 'letter': 534,\n",
       " 'states': 855,\n",
       " 'volume': 950,\n",
       " 'archive': 123,\n",
       " 'section': 802,\n",
       " 'command': 239,\n",
       " 'night': 630,\n",
       " 'church': 221,\n",
       " 'russian': 782,\n",
       " 'authority': 142,\n",
       " 'order': 652,\n",
       " 'white': 967,\n",
       " 'protect': 724,\n",
       " 'needs': 622,\n",
       " 'export': 362,\n",
       " 'des': 296,\n",
       " 'country': 265,\n",
       " 'switch': 873,\n",
       " 'red': 752,\n",
       " 'position': 697,\n",
       " 'remember': 758,\n",
       " 'idea': 467,\n",
       " 'rom': 776,\n",
       " 'obvious': 639,\n",
       " 'exactly': 353,\n",
       " 'dos': 322,\n",
       " '04': 5,\n",
       " '01': 2,\n",
       " '17': 18,\n",
       " 'sources': 842,\n",
       " 'nasa': 615,\n",
       " 'press': 707,\n",
       " 'satellite': 787,\n",
       " 'area': 124,\n",
       " 'hours': 461,\n",
       " 'allow': 101,\n",
       " 'result': 770,\n",
       " 'form': 391,\n",
       " 'nature': 617,\n",
       " '00': 0,\n",
       " 'release': 755,\n",
       " '22': 31,\n",
       " 'plan': 685,\n",
       " 'jpeg': 506,\n",
       " '70': 67,\n",
       " 'original': 655,\n",
       " '02': 3,\n",
       " '90': 75,\n",
       " '91': 76,\n",
       " '29': 39,\n",
       " '31': 44,\n",
       " 'entire': 344,\n",
       " 'including': 477,\n",
       " 'level': 535,\n",
       " 'various': 943,\n",
       " 'radio': 737,\n",
       " 'built': 181,\n",
       " 'north': 633,\n",
       " 'au': 140,\n",
       " 'results': 771,\n",
       " 'science': 795,\n",
       " 'articles': 133,\n",
       " 'posting': 702,\n",
       " 'field': 377,\n",
       " 'national': 616,\n",
       " 'development': 300,\n",
       " 'gov': 422,\n",
       " 'unit': 925,\n",
       " 'scientific': 796,\n",
       " 'context': 257,\n",
       " 'sites': 827,\n",
       " 'terms': 889,\n",
       " 'motif': 610,\n",
       " 'events': 351,\n",
       " 'test': 890,\n",
       " 'faq': 368,\n",
       " 'answers': 109,\n",
       " 'tar': 881,\n",
       " 'require': 764,\n",
       " 'internal': 490,\n",
       " 'break': 175,\n",
       " 'explain': 361,\n",
       " 'washington': 958,\n",
       " '33': 46,\n",
       " 'la': 519,\n",
       " 'peace': 669,\n",
       " 'kill': 511,\n",
       " 'meaning': 587,\n",
       " 'religious': 757,\n",
       " 'atheism': 138,\n",
       " 'groups': 429,\n",
       " 'belief': 155,\n",
       " 'sale': 785,\n",
       " 'turks': 918,\n",
       " 'east': 333,\n",
       " 'text': 891,\n",
       " 'unfortunately': 924,\n",
       " 'evidence': 352,\n",
       " 'armenia': 127,\n",
       " 'crime': 272,\n",
       " 'event': 350,\n",
       " 'political': 694,\n",
       " 'mr': 612,\n",
       " 'weeks': 965,\n",
       " 'john': 505,\n",
       " '40': 56,\n",
       " 'pp': 704,\n",
       " 'turkey': 916,\n",
       " 'brought': 177,\n",
       " 'greek': 426,\n",
       " 'april': 122,\n",
       " 'van': 942,\n",
       " 'president': 706,\n",
       " 'blood': 168,\n",
       " 'arms': 130,\n",
       " 'dead': 288,\n",
       " 'gives': 411,\n",
       " 'party': 664,\n",
       " '19': 20,\n",
       " 'private': 713,\n",
       " 'dc': 287,\n",
       " 'cable': 187,\n",
       " 'nsa': 635,\n",
       " 'friend': 395,\n",
       " 'secret': 801,\n",
       " 'keys': 510,\n",
       " 'secure': 803,\n",
       " 'started': 852,\n",
       " 'ms': 613,\n",
       " 'screen': 797,\n",
       " 'period': 673,\n",
       " 'video': 947,\n",
       " 'manager': 576,\n",
       " 'hp': 463,\n",
       " 'mouse': 611,\n",
       " 'laws': 527,\n",
       " 'al': 99,\n",
       " 'death': 290,\n",
       " 'author': 141,\n",
       " 'main': 570,\n",
       " 'books': 172,\n",
       " 'media': 589,\n",
       " 'rights': 774,\n",
       " 'coming': 238,\n",
       " 'society': 832,\n",
       " 'conference': 251,\n",
       " 'details': 299,\n",
       " 'medical': 590,\n",
       " 'object': 638,\n",
       " 'logic': 551,\n",
       " 'paper': 661,\n",
       " 'ma': 565,\n",
       " 'directory': 311,\n",
       " 'cross': 273,\n",
       " 'fine': 383,\n",
       " '3d': 54,\n",
       " 'algorithm': 100,\n",
       " 'picture': 679,\n",
       " 'gif': 409,\n",
       " 'family': 367,\n",
       " 'pin': 680,\n",
       " 'chips': 215,\n",
       " 'btw': 178,\n",
       " 'published': 731,\n",
       " 'ram': 738,\n",
       " 'package': 659,\n",
       " 'apparently': 112,\n",
       " 'alt': 103,\n",
       " 'pro': 714,\n",
       " 'users': 936,\n",
       " 'united': 926,\n",
       " '13': 13,\n",
       " '86': 74,\n",
       " 'community': 244,\n",
       " 'supports': 870,\n",
       " 'include': 474,\n",
       " 'physical': 677,\n",
       " 'os': 656,\n",
       " 'according': 85,\n",
       " 'value': 940,\n",
       " 'functions': 398,\n",
       " 'useful': 933,\n",
       " 'internet': 492,\n",
       " 'inside': 482,\n",
       " 'wire': 974,\n",
       " 'hear': 446,\n",
       " 'port': 696,\n",
       " 'devices': 302,\n",
       " 'cd': 202,\n",
       " 'device': 301,\n",
       " 'happens': 438,\n",
       " 'talking': 879,\n",
       " 'commercial': 241,\n",
       " 'wm': 976,\n",
       " 'accept': 83,\n",
       " 'choice': 216,\n",
       " 'block': 167,\n",
       " 'expect': 359,\n",
       " 'business': 183,\n",
       " 'american': 105,\n",
       " 'exists': 358,\n",
       " 'soon': 836,\n",
       " 'wanted': 955,\n",
       " 'normal': 632,\n",
       " 'recent': 749,\n",
       " 'chance': 206,\n",
       " 'written': 990,\n",
       " 'discussion': 312,\n",
       " 'statement': 854,\n",
       " 'claims': 226,\n",
       " 'material': 581,\n",
       " 'players': 688,\n",
       " 'organization': 654,\n",
       " 'requires': 766,\n",
       " 'comments': 240,\n",
       " 'league': 528,\n",
       " 'pittsburgh': 681,\n",
       " '128': 12,\n",
       " '145': 15,\n",
       " 'cs': 274,\n",
       " '03': 4,\n",
       " 'ax': 147,\n",
       " 'bhj': 160,\n",
       " 'giz': 413,\n",
       " '1t': 27,\n",
       " '34u': 48,\n",
       " '7u': 71,\n",
       " '9v': 79,\n",
       " 'g9v': 400,\n",
       " '1d9': 25,\n",
       " 'gk': 414,\n",
       " '75u': 69,\n",
       " '3t': 55,\n",
       " 'pl': 682,\n",
       " '2tm': 41,\n",
       " '7ey': 70,\n",
       " '0d': 6,\n",
       " 'bxn': 185,\n",
       " '6ei': 66,\n",
       " '0t': 7,\n",
       " '2di': 40,\n",
       " 'a86': 80,\n",
       " 'mb': 585,\n",
       " 'd9': 279,\n",
       " 'chz': 222,\n",
       " 'lk': 548,\n",
       " 'sl': 830,\n",
       " 'cx': 278,\n",
       " 'b8f': 148,\n",
       " 'color': 234,\n",
       " 'school': 793,\n",
       " 'issues': 498,\n",
       " 'sci': 794,\n",
       " 'suggest': 866,\n",
       " 'theory': 894,\n",
       " 'tv': 920,\n",
       " 'purpose': 732,\n",
       " 'jobs': 504,\n",
       " 'usenet': 934,\n",
       " 'provided': 726,\n",
       " 'manual': 577,\n",
       " 'difficult': 308,\n",
       " 'existence': 357,\n",
       " 'perfect': 671,\n",
       " 'contains': 256,\n",
       " 'sounds': 840,\n",
       " 'trade': 908,\n",
       " 'food': 389,\n",
       " 'monitor': 606,\n",
       " 'modem': 604,\n",
       " 'bits': 165,\n",
       " 'america': 104,\n",
       " 'clinton': 230,\n",
       " 'canada': 192,\n",
       " '1991': 22,\n",
       " 'gm': 415,\n",
       " 'nhl': 628,\n",
       " 'basic': 152,\n",
       " 'ways': 962,\n",
       " 'uk': 922,\n",
       " 'federal': 375,\n",
       " 'comp': 245,\n",
       " 'title': 902,\n",
       " 'individual': 478,\n",
       " 'clearly': 229,\n",
       " 'particular': 662,\n",
       " 'knew': 514,\n",
       " 'jim': 502,\n",
       " 'israeli': 496,\n",
       " 'keyboard': 509,\n",
       " 'distribution': 315,\n",
       " 'server': 813,\n",
       " 'hockey': 456,\n",
       " 'average': 144,\n",
       " 'vga': 946,\n",
       " 'learn': 529,\n",
       " 'shipping': 817,\n",
       " 'ac': 82,\n",
       " 'db': 286,\n",
       " 'electronic': 338,\n",
       " 'x11': 993,\n",
       " 'administration': 92,\n",
       " 'escrow': 348,\n",
       " 'anonymous': 107,\n",
       " 'sin': 824,\n",
       " 'rules': 778,\n",
       " 'fbi': 374,\n",
       " 'bh': 159,\n",
       " 'w7': 952,\n",
       " 'products': 720,\n",
       " 'widget': 969,\n",
       " 'int': 486,\n",
       " 'pts': 728,\n",
       " 'stephanopoulos': 857}"
      ]
     },
     "execution_count": 39,
     "metadata": {},
     "output_type": "execute_result"
    }
   ],
   "source": [
    "count_vect.vocabulary_"
   ]
  },
  {
   "cell_type": "markdown",
   "metadata": {},
   "source": [
    "*Так мы получили векторное представление наших текстов. Значит можно приступать к задаче обучения модели*"
   ]
  },
  {
   "cell_type": "markdown",
   "metadata": {},
   "source": [
    "Реализуйте разбиение выборки для кросс-валидации на 3 фолдах. Разрешено использовать sklearn.cross_validation"
   ]
  },
  {
   "cell_type": "code",
   "execution_count": 24,
   "metadata": {},
   "outputs": [],
   "source": [
    "from sklearn.model_selection import cross_val_score"
   ]
  },
  {
   "cell_type": "code",
   "execution_count": 40,
   "metadata": {},
   "outputs": [
    {
     "data": {
      "text/plain": [
       "array([0.23568399, 0.22911695, 0.23813312])"
      ]
     },
     "execution_count": 40,
     "metadata": {},
     "output_type": "execute_result"
    }
   ],
   "source": [
    "my_clf = MyKNeighborsClassifier(n_neighbors=2, algorithm='kd_tree')\n",
    "my_clf.fit(X,y)\n",
    "cross_val_score(clf,X,y,cv=3, scoring='accuracy')"
   ]
  },
  {
   "cell_type": "code",
   "execution_count": 52,
   "metadata": {},
   "outputs": [],
   "source": [
    "scores_data = pd.DataFrame()"
   ]
  },
  {
   "cell_type": "code",
   "execution_count": 53,
   "metadata": {},
   "outputs": [],
   "source": [
    "count_vect = CountVectorizer(max_features = 500 )\n",
    "X = count_vect.fit_transform(newsgroups.data).toarray()\n",
    "y = target"
   ]
  },
  {
   "cell_type": "code",
   "execution_count": 54,
   "metadata": {},
   "outputs": [],
   "source": [
    "best_k, scores_data = Best_k_neighbors(X,y, cv = 3, metrics = 'minkowski') #сначала нужно запустить следующую вкладку (работать будет долго минут 15)"
   ]
  },
  {
   "cell_type": "code",
   "execution_count": 58,
   "metadata": {},
   "outputs": [
    {
     "data": {
      "text/html": [
       "<div>\n",
       "<style scoped>\n",
       "    .dataframe tbody tr th:only-of-type {\n",
       "        vertical-align: middle;\n",
       "    }\n",
       "\n",
       "    .dataframe tbody tr th {\n",
       "        vertical-align: top;\n",
       "    }\n",
       "\n",
       "    .dataframe thead th {\n",
       "        text-align: right;\n",
       "    }\n",
       "</style>\n",
       "<table border=\"1\" class=\"dataframe\">\n",
       "  <thead>\n",
       "    <tr style=\"text-align: right;\">\n",
       "      <th></th>\n",
       "      <th>K</th>\n",
       "      <th>cross_val_score</th>\n",
       "    </tr>\n",
       "  </thead>\n",
       "  <tbody>\n",
       "    <tr>\n",
       "      <th>0</th>\n",
       "      <td>1</td>\n",
       "      <td>0.168375</td>\n",
       "    </tr>\n",
       "    <tr>\n",
       "      <th>0</th>\n",
       "      <td>2</td>\n",
       "      <td>0.156178</td>\n",
       "    </tr>\n",
       "    <tr>\n",
       "      <th>0</th>\n",
       "      <td>3</td>\n",
       "      <td>0.156266</td>\n",
       "    </tr>\n",
       "    <tr>\n",
       "      <th>0</th>\n",
       "      <td>4</td>\n",
       "      <td>0.158034</td>\n",
       "    </tr>\n",
       "    <tr>\n",
       "      <th>0</th>\n",
       "      <td>5</td>\n",
       "      <td>0.160774</td>\n",
       "    </tr>\n",
       "    <tr>\n",
       "      <th>0</th>\n",
       "      <td>6</td>\n",
       "      <td>0.160067</td>\n",
       "    </tr>\n",
       "    <tr>\n",
       "      <th>0</th>\n",
       "      <td>7</td>\n",
       "      <td>0.163249</td>\n",
       "    </tr>\n",
       "    <tr>\n",
       "      <th>0</th>\n",
       "      <td>8</td>\n",
       "      <td>0.167492</td>\n",
       "    </tr>\n",
       "    <tr>\n",
       "      <th>0</th>\n",
       "      <td>9</td>\n",
       "      <td>0.167669</td>\n",
       "    </tr>\n",
       "    <tr>\n",
       "      <th>0</th>\n",
       "      <td>10</td>\n",
       "      <td>0.169260</td>\n",
       "    </tr>\n",
       "  </tbody>\n",
       "</table>\n",
       "</div>"
      ],
      "text/plain": [
       "    K  cross_val_score\n",
       "0   1         0.168375\n",
       "0   2         0.156178\n",
       "0   3         0.156266\n",
       "0   4         0.158034\n",
       "0   5         0.160774\n",
       "0   6         0.160067\n",
       "0   7         0.163249\n",
       "0   8         0.167492\n",
       "0   9         0.167669\n",
       "0  10         0.169260"
      ]
     },
     "execution_count": 58,
     "metadata": {},
     "output_type": "execute_result"
    }
   ],
   "source": [
    "scores_data.head(10)"
   ]
  },
  {
   "cell_type": "code",
   "execution_count": 55,
   "metadata": {},
   "outputs": [],
   "source": [
    "scores_data_cos = pd.DataFrame()"
   ]
  },
  {
   "cell_type": "code",
   "execution_count": 56,
   "metadata": {},
   "outputs": [],
   "source": [
    "from sklearn.feature_extraction.text import TfidfTransformer\n",
    "tfidf_transformer = TfidfTransformer()\n",
    "X = tfidf_transformer.fit_transform(X).toarray()"
   ]
  },
  {
   "cell_type": "code",
   "execution_count": 57,
   "metadata": {},
   "outputs": [],
   "source": [
    "best_k_cos, scores_data_cos = Best_k_neighbors(X,y, cv = 3, metrics = 'cosine')"
   ]
  },
  {
   "cell_type": "code",
   "execution_count": 61,
   "metadata": {},
   "outputs": [
    {
     "data": {
      "text/html": [
       "<div>\n",
       "<style scoped>\n",
       "    .dataframe tbody tr th:only-of-type {\n",
       "        vertical-align: middle;\n",
       "    }\n",
       "\n",
       "    .dataframe tbody tr th {\n",
       "        vertical-align: top;\n",
       "    }\n",
       "\n",
       "    .dataframe thead th {\n",
       "        text-align: right;\n",
       "    }\n",
       "</style>\n",
       "<table border=\"1\" class=\"dataframe\">\n",
       "  <thead>\n",
       "    <tr style=\"text-align: right;\">\n",
       "      <th></th>\n",
       "      <th>K</th>\n",
       "      <th>cross_val_score</th>\n",
       "    </tr>\n",
       "  </thead>\n",
       "  <tbody>\n",
       "    <tr>\n",
       "      <th>0</th>\n",
       "      <td>1</td>\n",
       "      <td>0.331625</td>\n",
       "    </tr>\n",
       "    <tr>\n",
       "      <th>0</th>\n",
       "      <td>2</td>\n",
       "      <td>0.323670</td>\n",
       "    </tr>\n",
       "    <tr>\n",
       "      <th>0</th>\n",
       "      <td>3</td>\n",
       "      <td>0.321107</td>\n",
       "    </tr>\n",
       "    <tr>\n",
       "      <th>0</th>\n",
       "      <td>4</td>\n",
       "      <td>0.324024</td>\n",
       "    </tr>\n",
       "    <tr>\n",
       "      <th>0</th>\n",
       "      <td>5</td>\n",
       "      <td>0.334807</td>\n",
       "    </tr>\n",
       "    <tr>\n",
       "      <th>0</th>\n",
       "      <td>6</td>\n",
       "      <td>0.337724</td>\n",
       "    </tr>\n",
       "    <tr>\n",
       "      <th>0</th>\n",
       "      <td>7</td>\n",
       "      <td>0.340728</td>\n",
       "    </tr>\n",
       "    <tr>\n",
       "      <th>0</th>\n",
       "      <td>8</td>\n",
       "      <td>0.344352</td>\n",
       "    </tr>\n",
       "    <tr>\n",
       "      <th>0</th>\n",
       "      <td>9</td>\n",
       "      <td>0.339491</td>\n",
       "    </tr>\n",
       "    <tr>\n",
       "      <th>0</th>\n",
       "      <td>10</td>\n",
       "      <td>0.342762</td>\n",
       "    </tr>\n",
       "  </tbody>\n",
       "</table>\n",
       "</div>"
      ],
      "text/plain": [
       "    K  cross_val_score\n",
       "0   1         0.331625\n",
       "0   2         0.323670\n",
       "0   3         0.321107\n",
       "0   4         0.324024\n",
       "0   5         0.334807\n",
       "0   6         0.337724\n",
       "0   7         0.340728\n",
       "0   8         0.344352\n",
       "0   9         0.339491\n",
       "0  10         0.342762"
      ]
     },
     "execution_count": 61,
     "metadata": {},
     "output_type": "execute_result"
    }
   ],
   "source": [
    "scores_data_cos.head(10)"
   ]
  },
  {
   "cell_type": "code",
   "execution_count": 62,
   "metadata": {},
   "outputs": [
    {
     "data": {
      "text/plain": [
       "(8, 10)"
      ]
     },
     "execution_count": 62,
     "metadata": {},
     "output_type": "execute_result"
    }
   ],
   "source": [
    "best_k_cos,best_k"
   ]
  },
  {
   "cell_type": "code",
   "execution_count": 63,
   "metadata": {},
   "outputs": [
    {
     "data": {
      "text/plain": [
       "(0.3443524088832947, 0.16925987417322896)"
      ]
     },
     "execution_count": 63,
     "metadata": {},
     "output_type": "execute_result"
    }
   ],
   "source": [
    "scores_data_cos['cross_val_score'].max(),scores_data['cross_val_score'].max() #делаем вывод, что при к=8 и косинусной метрика наил рез"
   ]
  },
  {
   "cell_type": "code",
   "execution_count": 65,
   "metadata": {},
   "outputs": [
    {
     "data": {
      "image/png": "[encoded data removed]",
      "text/plain": [
       "<Figure size 432x288 with 1 Axes>"
      ]
     },
     "metadata": {
      "needs_background": "light"
     },
     "output_type": "display_data"
    }
   ],
   "source": [
    "plt.plot(scores_data_cos['K'],scores_data_cos['cross_val_score'])\n",
    "plt.show()"
   ]
  },
  {
   "cell_type": "markdown",
   "metadata": {},
   "source": [
    "Напишите метод, позволяющий найти оптимальное количество ближайших соседей(дающее максимальную точность в среднем на валидации на 3 фолдах).\n",
    "Постройте график зависимости средней точности от количества соседей. Можно рассмотреть число соседей от 1 до 10."
   ]
  },
  {
   "cell_type": "code",
   "execution_count": 42,
   "metadata": {},
   "outputs": [],
   "source": [
    "def Best_k_neighbors(X, y,metrics, cv = 3):\n",
    "    scores_data = pd.DataFrame()\n",
    "    if metrics == 'cosine':\n",
    "        for i in range(1,11):\n",
    "            clf = MyKNeighborsClassifier(n_neighbors=i, algorithm='brute', metrics = 'cosine')\n",
    "            clf.fit(X,y)\n",
    "            mean_cross_val_score = cross_val_score(clf, X, y, cv=3,scoring ='accuracy' ).mean()\n",
    "            temp_score_data = [{'K' : i, 'cross_val_score' : mean_cross_val_score}]\n",
    "            scores_data = scores_data.append(temp_score_data)\n",
    "    else:\n",
    "        for i in range(1,11):\n",
    "            clf = MyKNeighborsClassifier(n_neighbors=i, algorithm='kd_tree')\n",
    "            clf.fit(X,y)\n",
    "            mean_cross_val_score = cross_val_score(clf, X, y, cv=3,scoring ='accuracy' ).mean()\n",
    "            temp_score_data = [{'K' : i, 'cross_val_score' : mean_cross_val_score}]\n",
    "            scores_data = scores_data.append(temp_score_data)\n",
    "    best_k = np.argmax(scores_data['cross_val_score'])+1\n",
    "    return best_k,scores_data"
   ]
  },
  {
   "cell_type": "code",
   "execution_count": 66,
   "metadata": {},
   "outputs": [],
   "source": [
    "from sklearn.feature_extraction.text import TfidfTransformer\n",
    "tfidf_transformer = TfidfTransformer()\n",
    "X = tfidf_transformer.fit_transform(X).toarray()"
   ]
  },
  {
   "cell_type": "code",
   "execution_count": 67,
   "metadata": {},
   "outputs": [],
   "source": [
    "my_clf = MyKNeighborsClassifier(n_neighbors=best_k_cos, algorithm='brute', metrics = 'cosine') #выкатываем свою лучшую модель\n",
    "my_clf.fit(X,y)"
   ]
  },
  {
   "cell_type": "code",
   "execution_count": 78,
   "metadata": {},
   "outputs": [
    {
     "data": {
      "text/plain": [
       "['euclidean',\n",
       " 'l2',\n",
       " 'minkowski',\n",
       " 'p',\n",
       " 'manhattan',\n",
       " 'cityblock',\n",
       " 'l1',\n",
       " 'chebyshev',\n",
       " 'infinity']"
      ]
     },
     "execution_count": 78,
     "metadata": {},
     "output_type": "execute_result"
    }
   ],
   "source": [
    "KDTree.valid_metrics # делаю вывод, что KDTree не работает с косинусной метрикой, поэтому использую brute"
   ]
  },
  {
   "cell_type": "markdown",
   "metadata": {},
   "source": [
    "Как изменится качество на валидации, если:\n",
    "\n",
    "1. Используется косинусная метрика вместо евклидовой.\n",
    "2. К текстам применяется TfIdf векторизацию( sklearn.feature_extraction.text.TfidfVectorizer)\n",
    "\n",
    "Сравните модели, выберите лучшую."
   ]
  },
  {
   "cell_type": "markdown",
   "metadata": {},
   "source": [
    "Загрузим  теперь test  часть нашей выборки и преобразуем её аналогично с train частью. Не забудьте, что наборы слов в train и test части могут отличаться."
   ]
  },
  {
   "cell_type": "code",
   "execution_count": 68,
   "metadata": {},
   "outputs": [],
   "source": [
    "newsgroups = fetch_20newsgroups(subset='test',remove=['headers','footers', 'quotes'])"
   ]
  },
  {
   "cell_type": "code",
   "execution_count": 69,
   "metadata": {},
   "outputs": [],
   "source": [
    "data = newsgroups['data']\n",
    "target = newsgroups['target']"
   ]
  },
  {
   "cell_type": "code",
   "execution_count": 70,
   "metadata": {},
   "outputs": [],
   "source": [
    "count_vect = CountVectorizer(max_features = 500)\n",
    "X_pred = count_vect.fit_transform(newsgroups.data).toarray()\n",
    "y_pred = target"
   ]
  },
  {
   "cell_type": "code",
   "execution_count": 71,
   "metadata": {},
   "outputs": [],
   "source": [
    "tfidf_transformer = TfidfTransformer()\n",
    "X_pred = tfidf_transformer.fit_transform(X_pred).toarray()\n",
    "y_pred = target"
   ]
  },
  {
   "cell_type": "markdown",
   "metadata": {},
   "source": [
    "Оценим точность вашей лучшей модели на test части датасета. Отличается ли оно от кросс-валидации? Попробуйте сделать выводы, почему отличается качество."
   ]
  },
  {
   "cell_type": "code",
   "execution_count": 72,
   "metadata": {},
   "outputs": [],
   "source": [
    "my_clf = MyKNeighborsClassifier(n_neighbors=best_k_cos, algorithm='brute', metrics = 'cosine')\n",
    "my_clf.fit(X_pred,y_pred)"
   ]
  },
  {
   "cell_type": "code",
   "execution_count": 73,
   "metadata": {},
   "outputs": [],
   "source": [
    "y_my_pred = my_clf.predict(X_pred)"
   ]
  },
  {
   "cell_type": "code",
   "execution_count": 74,
   "metadata": {},
   "outputs": [
    {
     "data": {
      "text/plain": [
       "0.4928305894848646"
      ]
     },
     "execution_count": 74,
     "metadata": {},
     "output_type": "execute_result"
    }
   ],
   "source": [
    "accuracy_score(y_pred, y_my_pred)"
   ]
  },
  {
   "cell_type": "markdown",
   "metadata": {},
   "source": [
    "Вывод: Качество отличается от кросс-валидации,я думаю это связано с тем, что на кросс-валидации модель обучается с 2/3 данных, а на тесте приходит целая часть, соответственно из-за этого скор может быть выше.\n",
    "P.S: Можно было бы еще поэксперементировать с подачей данных менять частоту,max_features,убирать стоп-слова и т.д. Но в силу мощности своего ПК, я не могу этого сделать, поэтому везде ставил дефолтно max_features = 500"
   ]
  }
 ],
 "metadata": {
  "kernelspec": {
   "display_name": "Python 3",
   "language": "python",
   "name": "python3"
  },
  "language_info": {
   "codemirror_mode": {
    "name": "ipython",
    "version": 3
   },
   "file_extension": ".py",
   "mimetype": "text/x-python",
   "name": "python",
   "nbconvert_exporter": "python",
   "pygments_lexer": "ipython3",
   "version": "3.8.8"
  }
 },
 "nbformat": 4,
 "nbformat_minor": 2
}
