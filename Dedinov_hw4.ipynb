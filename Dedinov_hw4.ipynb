{
 "cells": [
  {
   "cell_type": "markdown",
   "metadata": {},
   "source": [
    "### Алгоритмы интеллектуальной обработки больших объемов данных\n",
    "## Домашнее задание №4 - Градиентный бустинг\n"
   ]
  },
  {
   "cell_type": "markdown",
   "metadata": {},
   "source": [
    "**Общая информация**\n",
    "\n",
    "**Срок сдачи:** 10 мая 2021, 08:30   \n",
    "**Штраф за опоздание:** -2 балла после 08:30 10 мая, -4 балла после 08:30 17 мая, -6 баллов после 08:30 24 мая, -8 баллов после 08:30 31 мая.\n",
    "\n",
    "При отправлении ДЗ указывайте фамилию в названии файла Присылать ДЗ необходимо в виде ссылки на свой github репозиторий на почту ml1.sphere@mail.ru с указанием темы в следующем формате:\n",
    "[ML0221, Задание 4] Фамилия Имя. \n",
    "\n",
    "\n",
    "Используйте данный Ipython Notebook при оформлении домашнего задания."
   ]
  },
  {
   "cell_type": "markdown",
   "metadata": {},
   "source": [
    "##  Считаем производные для функций потерь (1 балл)"
   ]
  },
  {
   "cell_type": "markdown",
   "metadata": {},
   "source": [
    "Мы будем реализовать градиентный бустинг для 3 функций потерь:\n",
    "\n",
    "1) MSE  $L(a(x_i), y_i) = (y_i - a(x_i)) ^ 2$\n",
    "\n",
    "2) Экспоненциальная  $L(a(x_i), y_i) = exp( -a(x_i) y_i), y_i \\in \\{-1, 1\\}$\n",
    "\n",
    "3) Логистическая  $L(a(x_i), y_i) = \\log (1 + exp( -a(x_i) y_i)), y_i \\in \\{-1, 1\\}$\n",
    "\n",
    "где $a(x_i)$ предсказание бустинга на итом объекте. \n",
    "\n",
    "Для каждой функции потерь напишите таргет, на который будет настраиваться каждое дерево в бустинге. "
   ]
  },
  {
   "cell_type": "markdown",
   "metadata": {},
   "source": [
    "Ваше решение тут\n",
    "\n",
    "переобозначим $$a(x{i}) = z$$\n",
    "1) MSE: \n",
    "Тогда $$ -\\frac{\\partial }{\\partial z}(y_i-z)^2 = 2(y_i - z)$$\n",
    "2)Экспоненциальная:\n",
    "    $$ -\\frac{\\partial }{\\partial z}(exp(-z y_i) = y_i exp(-z y_i), y_i \\in \\{-1, 1\\} $$\n",
    "3)Логистическая:\n",
    "    $$ - \\frac{\\partial }{\\partial z} \\log (1 + exp( -z y_i)) = \\frac{y_i exp(-z y_i)}{1+exp(-z y_i)}, y_i \\in \\{-1, 1\\}$$"
   ]
  },
  {
   "cell_type": "markdown",
   "metadata": {},
   "source": [
    "##  Реализуем градиентный бустинг (3 балла)"
   ]
  },
  {
   "cell_type": "markdown",
   "metadata": {},
   "source": [
    "Реализуйте класс градиентного бустинга для классификации. Ваша реализация бустинга должна работать по точности не более чем на 5 процентов хуже чем GradientBoostingClassifier из sklearn. \n"
   ]
  },
  {
   "cell_type": "markdown",
   "metadata": {},
   "source": [
    "Детали реализации:\n",
    "\n",
    "-- должно поддерживаться 3 функции потерь\n",
    "\n",
    "-- сами базовые алгоритмы(деревья, линейные модели и тп) реализовать не надо, просто возьмите готовые из sklearn\n",
    "\n",
    "-- в качестве функции потерь для построения одного дерева используйте MSE\n",
    "\n",
    "-- шаг в бустинге можно не подбирать, можно брать константный\n",
    "\n",
    "-- можно брать разные модели в качестве инициализации бустинга\n",
    "\n",
    "-- должны поддерживаться следующие параметры:\n",
    "\n",
    "а) число итераций\n",
    "б) размер шага\n",
    "в) процент случайных фичей при построении одного дерева\n",
    "д) процент случайных объектов при построении одного дерева\n",
    "е) параметры базового алгоритма (передавайте через **kwargs)"
   ]
  },
  {
   "cell_type": "code",
   "execution_count": 14,
   "metadata": {},
   "outputs": [],
   "source": [
    "import numpy as np\n",
    "import matplotlib.pyplot as plt\n",
    "\n",
    "from sklearn.datasets import load_wine\n",
    "from sklearn.ensemble import GradientBoostingClassifier\n",
    "from sklearn.metrics import accuracy_score\n",
    "from sklearn.model_selection import train_test_split\n",
    "from sklearn.tree import DecisionTreeRegressor\n",
    "from sklearn.ensemble import RandomForestRegressor, RandomForestClassifier\n",
    "from sklearn.linear_model import SGDClassifier\n",
    "from sklearn.svm import SVC\n",
    "from sklearn.model_selection import KFold, train_test_split\n",
    "from sklearn.preprocessing import StandardScaler"
   ]
  },
  {
   "cell_type": "code",
   "execution_count": 23,
   "metadata": {},
   "outputs": [],
   "source": [
    "class MyGradientBoostingClassifier:\n",
    "\n",
    "    def __init__(self, loss, learning_rate, n_estimators, colsample, subsample, *args, **kwargs):\n",
    "        \"\"\"\n",
    "        loss -- один из 3 лоссов:\n",
    "        learning_rate -- шаг бустинга\n",
    "        n_estimators -- число итераций\n",
    "        colsample -- процент рандомных признаков при обучнеии одного алгоритма\n",
    "        colsample -- процент рандомных объектов при обучнеии одного алгоритма\n",
    "        args, kwargs -- параметры  базовых моделей\n",
    "        \"\"\"\n",
    "        if loss == 'MSE':\n",
    "            self.__get_loss = self.__get_MSE\n",
    "            self.__get_grad = self.__get_MSE_grad\n",
    "        elif loss == 'exp':\n",
    "            self.__get_loss = self.__get_exp\n",
    "            self.__get_grad = self.__get_exp_grad\n",
    "        elif loss == 'log':\n",
    "            self.__get_loss = self.__get_log\n",
    "            self.__get_grad = self.__get_log_grad\n",
    "        self.learning_rate = learning_rate\n",
    "        self.n_estimators = n_estimators\n",
    "        self.colsample = colsample\n",
    "        self.subsample = subsample\n",
    "        self.args = args\n",
    "        self.kwargs = kwargs\n",
    "        \n",
    "    def __get_MSE(self, real, preds):\n",
    "        return (real - preds) ** 2\n",
    "\n",
    "    def __get_exp(self, real, preds):\n",
    "        return np.exp(-preds * real)\n",
    "\n",
    "    def __get_log(self, real, preds):\n",
    "        return np.log(1 + np.exp(-preds * real))\n",
    "\n",
    "    def __get_MSE_grad(self, real, preds):\n",
    "        return 2 * (real - preds)\n",
    "\n",
    "    def __get_exp_grad(self, real, preds):\n",
    "        return real * np.exp(-preds * real)\n",
    "\n",
    "    def __get_log_grad(self, real, preds):\n",
    "        return real * np.exp(-preds * real) / (1 + np.exp(-preds * real))\n",
    "\n",
    "    \n",
    "    def __init_model(self, init_model):\n",
    "        if init_model is not None:\n",
    "            self.init_model = init_model(*self.args, **self.kwargs)\n",
    "            self.init_model.fit(self.X, self.y)\n",
    "            self.ensemble  = np.float64(self.init_model.predict(self.X))\n",
    "        else:\n",
    "            self.ensemble  = np.float64(np.ones(self.y.shape[0]) / self.y.shape[0])\n",
    "            self.init_model = None\n",
    "        \n",
    "        \n",
    "    def __choose_data(self):\n",
    "        features_inds = np.random.randint(\n",
    "            0, self.X.shape[1], size=int(self.X.shape[1] * self.colsample))\n",
    "        self.features_inds.append(features_inds)\n",
    "        objects_inds = np.random.randint(\n",
    "            0, self.X.shape[0], size=int(self.X.shape[0] * self.subsample))\n",
    "        X_for_fit = self.X[np.ix_(objects_inds, features_inds)]\n",
    "        X_pred = self.X[:, features_inds]\n",
    "        y_for_fit = self.y[objects_inds]\n",
    "        prev_res = self.ensemble[objects_inds]\n",
    "        return X_for_fit, X_pred, y_for_fit, prev_res\n",
    "    \n",
    "    \n",
    "    def fit(self, X, y, base_model, init_model=None):\n",
    "        \"\"\"\n",
    "        X -- объекты для обучения:\n",
    "        y -- таргеты для обучения\n",
    "        base_model -- класс базовых моделей, например sklearn.tree.DecisionTreeRegressor\n",
    "        init_model -- класс для первой модели, если None то берем константу (только для посл задания)\n",
    "        \"\"\"\n",
    "        self.X = X\n",
    "        self.y = y\n",
    "        \n",
    "        self.__init_model(init_model)\n",
    "\n",
    "        self.models = []\n",
    "        self.features_inds = []\n",
    "        \n",
    "        for t in range(self.n_estimators):\n",
    "            X_for_fit, X_pred, y_for_fit, prev_res = self.__choose_data()\n",
    "            target = self.__get_grad(y_for_fit, prev_res)\n",
    "            model = base_model(*self.args, **self.kwargs)\n",
    "            model.fit(X_for_fit, target)\n",
    "            self.models.append(model)\n",
    "            self.ensemble += self.learning_rate * model.predict(X_pred)\n",
    "                \n",
    "        \n",
    "    def predict(self, X):\n",
    "        if self.init_model is None:\n",
    "            preds = np.float64(np.ones(X.shape[0]) / X.shape[0])\n",
    "        else:\n",
    "            preds = np.float64(self.init_model.predict(X))\n",
    "        for model, feat in zip(self.models, self.features_inds):\n",
    "            preds += self.learning_rate * model.predict(X[:, feat])\n",
    "        return np.around(preds)\n",
    "       \n",
    "\n"
   ]
  },
  {
   "cell_type": "code",
   "execution_count": 26,
   "metadata": {},
   "outputs": [],
   "source": [
    "my_clf = MyGradientBoostingClassifier(loss = 'MSE', learning_rate=0.1, n_estimators = 100, colsample = 0.66, subsample =0.66)\n",
    "clf = GradientBoostingClassifier()"
   ]
  },
  {
   "cell_type": "code",
   "execution_count": 27,
   "metadata": {},
   "outputs": [],
   "source": [
    "wine = load_wine()\n",
    "X_train, X_test, y_train, y_test = train_test_split(wine.data, wine.target, test_size=0.1, stratify=wine.target)"
   ]
  },
  {
   "cell_type": "code",
   "execution_count": 28,
   "metadata": {},
   "outputs": [
    {
     "name": "stdout",
     "output_type": "stream",
     "text": [
      "1.0\n",
      "1.0\n"
     ]
    }
   ],
   "source": [
    "my_clf.fit(X_train, y_train, DecisionTreeRegressor)\n",
    "clf.fit(X_train, y_train)\n",
    "print(accuracy_score(y_pred=clf.predict(X_test), y_true=y_test))\n",
    "print(accuracy_score(y_pred=my_clf.predict(X_test), y_true=y_test))"
   ]
  },
  {
   "cell_type": "markdown",
   "metadata": {},
   "source": [
    "## Подбираем параметры (2 балла)\n",
    "\n",
    "Давайте попробуем применить Ваш бустинг для предсказаний цены домов в Калифорнии. Чтобы можно было попробовтаь разные функции потерь, переведем по порогу таргет в 2 класса: дорогие и дешевые дома."
   ]
  },
  {
   "cell_type": "markdown",
   "metadata": {},
   "source": [
    "В задании нужно\n",
    "\n",
    "1) Построить график точности в зависимости от числа итераций на валидации.\n",
    "\n",
    "2) Подобрать оптимальные параметры Вашего бустинга на валидации. \n"
   ]
  },
  {
   "cell_type": "code",
   "execution_count": 15,
   "metadata": {},
   "outputs": [],
   "source": [
    "from sklearn.datasets import fetch_california_housing\n",
    "X, y = fetch_california_housing(return_X_y=True)"
   ]
  },
  {
   "cell_type": "code",
   "execution_count": 16,
   "metadata": {},
   "outputs": [
    {
     "name": "stdout",
     "output_type": "stream",
     "text": [
      "(20640, 8) (20640,)\n"
     ]
    }
   ],
   "source": [
    "# Превращаем регрессию в классификацию\n",
    "y = (y > 2.0).astype(int)\n",
    "print(X.shape, y.shape)"
   ]
  },
  {
   "cell_type": "code",
   "execution_count": 47,
   "metadata": {},
   "outputs": [
    {
     "name": "stdout",
     "output_type": "stream",
     "text": [
      "20 : 0.7603197674418605\n",
      "40 : 0.7667635658914729\n",
      "60 : 0.7732073643410853\n",
      "80 : 0.7868217054263565\n",
      "100 : 0.7616763565891473\n",
      "120 : 0.769282945736434\n",
      "140 : 0.7799418604651163\n",
      "160 : 0.7725290697674418\n"
     ]
    }
   ],
   "source": [
    "kf = KFold(n_splits=5, shuffle=False)\n",
    "full_res = []\n",
    "estimators = np.arange(20, 161, 20)\n",
    "for n in estimators:\n",
    "    res = []\n",
    "    for train_index, val_index in kf.split(X):\n",
    "        model = MyGradientBoostingClassifier(loss = 'MSE', learning_rate=0.1,n_estimators=n, colsample = 0.66, subsample =0.66)\n",
    "        X_train, X_val = X[train_index], X[val_index]\n",
    "        y_train, y_val = y[train_index], y[val_index]\n",
    "        model.fit(X_train, y_train, DecisionTreeRegressor)\n",
    "        res.append(accuracy_score(y_val, model.predict(X_val)))\n",
    "    print(n,':',np.mean(res))\n",
    "    full_res.append(np.mean(res))"
   ]
  },
  {
   "cell_type": "code",
   "execution_count": 49,
   "metadata": {},
   "outputs": [
    {
     "data": {
      "image/png": "[encoded data removed]",
      "text/plain": [
       "<Figure size 1152x360 with 1 Axes>"
      ]
     },
     "metadata": {
      "needs_background": "light"
     },
     "output_type": "display_data"
    }
   ],
   "source": [
    "fig = plt.figure(figsize=(16, 5))\n",
    "plt.plot(estimators, full_res)\n",
    "plt.show()"
   ]
  },
  {
   "cell_type": "code",
   "execution_count": 50,
   "metadata": {},
   "outputs": [],
   "source": [
    "best_n_estimators = 80"
   ]
  },
  {
   "cell_type": "code",
   "execution_count": 54,
   "metadata": {},
   "outputs": [
    {
     "name": "stdout",
     "output_type": "stream",
     "text": [
      "0.7781976744186047\n"
     ]
    }
   ],
   "source": [
    "kf = KFold(n_splits=5, shuffle=False)\n",
    "best_res = 0\n",
    "for loss in ['MSE', 'exp', 'log']:\n",
    "    res = []\n",
    "    for train_index, val_index in kf.split(X):\n",
    "        model = MyGradientBoostingClassifier(\n",
    "            loss=loss, n_estimators=best_n_estimators,learning_rate=0.1, colsample = 0.66, subsample =0.66)\n",
    "        X_train, X_val = X[train_index], X[val_index]\n",
    "        y_train, y_val = y[train_index], y[val_index]\n",
    "        model.fit(X_train, y_train, DecisionTreeRegressor)\n",
    "        res.append(accuracy_score(y_val, model.predict(X_val)))\n",
    "    mean = np.mean(res)\n",
    "    if mean > best_res:\n",
    "        print(mean)\n",
    "        best_res = mean\n",
    "        best_loss = loss"
   ]
  },
  {
   "cell_type": "code",
   "execution_count": 55,
   "metadata": {},
   "outputs": [
    {
     "data": {
      "text/plain": [
       "'MSE'"
      ]
     },
     "execution_count": 55,
     "metadata": {},
     "output_type": "execute_result"
    }
   ],
   "source": [
    "best_loss"
   ]
  },
  {
   "cell_type": "code",
   "execution_count": 58,
   "metadata": {},
   "outputs": [
    {
     "name": "stdout",
     "output_type": "stream",
     "text": [
      "0.797577519379845\n"
     ]
    }
   ],
   "source": [
    "kf = KFold(n_splits=5, shuffle=False)\n",
    "best_res = 0\n",
    "for learning_rate_ in [0.05, 0.1, 0.3, 0.5]:\n",
    "    res = []\n",
    "    for train_index, val_index in kf.split(X):\n",
    "        model = MyGradientBoostingClassifier(\n",
    "            loss='MSE', n_estimators=best_n_estimators,learning_rate=learning_rate_, colsample = 0.66, subsample =0.66)\n",
    "        X_train, X_val = X[train_index], X[val_index]\n",
    "        y_train, y_val = y[train_index], y[val_index]\n",
    "        model.fit(X_train, y_train, DecisionTreeRegressor)\n",
    "        res.append(accuracy_score(y_val, model.predict(X_val)))\n",
    "    mean = np.mean(res)\n",
    "    if mean > best_res:\n",
    "        print(mean)\n",
    "        best_res = mean\n",
    "        best_lr = learning_rate_"
   ]
  },
  {
   "cell_type": "code",
   "execution_count": 59,
   "metadata": {},
   "outputs": [
    {
     "data": {
      "text/plain": [
       "0.05"
      ]
     },
     "execution_count": 59,
     "metadata": {},
     "output_type": "execute_result"
    }
   ],
   "source": [
    "best_lr"
   ]
  },
  {
   "cell_type": "code",
   "execution_count": 61,
   "metadata": {},
   "outputs": [
    {
     "name": "stdout",
     "output_type": "stream",
     "text": [
      "0.817296511627907\n"
     ]
    }
   ],
   "source": [
    "kf = KFold(n_splits=5, shuffle=False)\n",
    "best_res = 0\n",
    "for colsample in [1.0, 0.66, 0.5, 0.2]:\n",
    "    res = []\n",
    "    for train_index, val_index in kf.split(X):\n",
    "        model = MyGradientBoostingClassifier(\n",
    "            loss=best_loss, n_estimators=best_n_estimators, learning_rate=best_lr, colsample=colsample, subsample = 0.66)\n",
    "        X_train, X_val = X[train_index], X[val_index]\n",
    "        y_train, y_val = y[train_index], y[val_index]\n",
    "        model.fit(X_train, y_train, base_model=DecisionTreeRegressor)\n",
    "        res.append(accuracy_score(y_val, model.predict(X_val)))\n",
    "    mean = np.mean(res)\n",
    "    if mean > best_res:\n",
    "        print(mean)\n",
    "        best_res = mean\n",
    "        best_colsample = colsample"
   ]
  },
  {
   "cell_type": "code",
   "execution_count": 62,
   "metadata": {},
   "outputs": [
    {
     "data": {
      "text/plain": [
       "1.0"
      ]
     },
     "execution_count": 62,
     "metadata": {},
     "output_type": "execute_result"
    }
   ],
   "source": [
    "best_colsample"
   ]
  },
  {
   "cell_type": "code",
   "execution_count": 63,
   "metadata": {},
   "outputs": [
    {
     "name": "stdout",
     "output_type": "stream",
     "text": [
      "0.8142441860465116\n",
      "0.8188953488372093\n",
      "0.8194767441860465\n"
     ]
    }
   ],
   "source": [
    "kf = KFold(n_splits=5, shuffle=False)\n",
    "best_res = 0\n",
    "for subsample in [1.0, 0.66, 0.5, 0.2]:\n",
    "    res = []\n",
    "    for train_index, val_index in kf.split(X):\n",
    "        model = MyGradientBoostingClassifier(\n",
    "            loss=best_loss, n_estimators=best_n_estimators, learning_rate=best_lr, colsample=best_colsample, subsample = subsample)\n",
    "        X_train, X_val = X[train_index], X[val_index]\n",
    "        y_train, y_val = y[train_index], y[val_index]\n",
    "        model.fit(X_train, y_train, base_model=DecisionTreeRegressor)\n",
    "        res.append(accuracy_score(y_val, model.predict(X_val)))\n",
    "    mean = np.mean(res)\n",
    "    if mean > best_res:\n",
    "        print(mean)\n",
    "        best_res = mean\n",
    "        best_subsample = subsample"
   ]
  },
  {
   "cell_type": "code",
   "execution_count": 66,
   "metadata": {},
   "outputs": [
    {
     "data": {
      "text/plain": [
       "0.5"
      ]
     },
     "execution_count": 66,
     "metadata": {},
     "output_type": "execute_result"
    }
   ],
   "source": [
    "best_subsample"
   ]
  },
  {
   "cell_type": "code",
   "execution_count": 17,
   "metadata": {},
   "outputs": [],
   "source": [
    "X_train, X_test, y_train, y_test = train_test_split(X, y, test_size=0.33, random_state=42)"
   ]
  },
  {
   "cell_type": "code",
   "execution_count": 68,
   "metadata": {},
   "outputs": [
    {
     "data": {
      "text/plain": [
       "0.8834409864944216"
      ]
     },
     "execution_count": 68,
     "metadata": {},
     "output_type": "execute_result"
    }
   ],
   "source": [
    "model = MyGradientBoostingClassifier(loss = 'MSE', learning_rate=best_lr,n_estimators=best_n_estimators, colsample = best_colsample, subsample =best_subsample)\n",
    "model.fit(X_train,y_train,DecisionTreeRegressor)\n",
    "accuracy_score(y_test, model.predict(X_test))"
   ]
  },
  {
   "cell_type": "markdown",
   "metadata": {},
   "source": [
    "## BooBag BagBoo (1 балл)\n",
    "\n"
   ]
  },
  {
   "cell_type": "markdown",
   "metadata": {},
   "source": [
    "Попробуем объединить бустинг и бэгинг. Давайте\n",
    "\n",
    "1) в качестве базовой модели брать не дерево решений, а случайный лес (из sklearn)\n",
    "\n",
    "2) обучать N бустингов на бустрапированной выборке, а затем предикт усреднять"
   ]
  },
  {
   "cell_type": "markdown",
   "metadata": {},
   "source": [
    "Попробуйте обе этих стратегии на данных из прошлого задания. Получилось ли улучшить качество? Почему?"
   ]
  },
  {
   "cell_type": "code",
   "execution_count": 8,
   "metadata": {},
   "outputs": [
    {
     "data": {
      "text/plain": [
       "0.8932765707574868"
      ]
     },
     "execution_count": 8,
     "metadata": {},
     "output_type": "execute_result"
    }
   ],
   "source": [
    "model = MyGradientBoostingClassifier(loss = 'MSE', learning_rate=0.05,n_estimators=80, colsample = 1.0, subsample =0.5)\n",
    "model.fit(X_train,y_train,RandomForestRegressor)\n",
    "accuracy_score(y_test, model.predict(X_test))"
   ]
  },
  {
   "cell_type": "code",
   "execution_count": 18,
   "metadata": {},
   "outputs": [],
   "source": [
    "def process_random_boost(i):\n",
    "    model = MyGradientBoostingClassifier(loss = 'MSE', learning_rate=0.05,n_estimators=80, colsample = 1.0, subsample =0.5)\n",
    "    samples_inds = np.random.randint(0, X_train.shape[0], size=int(X_train.shape[0] / N))\n",
    "    X_boost = X_train[samples_inds, :]\n",
    "    y_boost = y_train[samples_inds]\n",
    "    model.fit(X_boost, y_boost, DecisionTreeRegressor)\n",
    "    preds = model.predict(X_test)\n",
    "    with lock:\n",
    "        boots_res.append(preds)\n",
    "        pbar.update(1)"
   ]
  },
  {
   "cell_type": "code",
   "execution_count": 39,
   "metadata": {},
   "outputs": [],
   "source": [
    "from multiprocessing.dummy import Pool as ThreadPool\n",
    "from tqdm import tqdm"
   ]
  },
  {
   "cell_type": "code",
   "execution_count": 40,
   "metadata": {},
   "outputs": [
    {
     "name": "stderr",
     "output_type": "stream",
     "text": [
      "70it [00:04, 14.86it/s]"
     ]
    },
    {
     "name": "stdout",
     "output_type": "stream",
     "text": [
      "0.8556958308866706\n"
     ]
    },
    {
     "name": "stderr",
     "output_type": "stream",
     "text": [
      "\n"
     ]
    }
   ],
   "source": [
    "N = 70\n",
    "with Pool(10) as pool, tqdm(N) as pbar:\n",
    "    boots_res = []\n",
    "    lock = pbar.get_lock()\n",
    "    pool.map(process_random_boost, range(N))\n",
    "pool.join()\n",
    "print(accuracy_score(y_test, np.sum(boots_res, axis=0) / N > 0.5))"
   ]
  },
  {
   "cell_type": "markdown",
   "metadata": {},
   "source": [
    "в первом случае удалось поднять скор, как мне кажется из-за того что RandomForest в принципе выдает точность больше чем решающие деревья, а соответственно быстрее сходится на бустинге, но тут главное не переобучиться, вероятней всего даже мои параметры в первом случае находятся не на самом подходящем пике, я пробовал их подобрать, но загрузка была бесконечная просто.\n",
    "Во втором случае скор упал немного.По сути мы сделали N бустингов и усреднили их, звучит вроде как неплохо, думаю при подходящих параметрах, он не сильно будет уступать."
   ]
  },
  {
   "cell_type": "markdown",
   "metadata": {
    "collapsed": true
   },
   "source": [
    "## Умная инициализация (1 балл)\n",
    "\n",
    "Попробуйте брать в качестве инициализации бустинга не константу, а какой-то алгоритм и уже от его предикта стартовать итерации бустинга. Попробуйте разные модели из sklearn: линейные модели, рандом форест, svm..\n",
    "\n",
    "Получилось ли улучшить качество? Почему?\n",
    "\n"
   ]
  },
  {
   "cell_type": "code",
   "execution_count": 41,
   "metadata": {},
   "outputs": [],
   "source": [
    "model = MyGradientBoostingClassifier(loss = 'MSE', learning_rate=0.05,n_estimators=80, colsample = 1.0, subsample =0.5)"
   ]
  },
  {
   "cell_type": "code",
   "execution_count": 42,
   "metadata": {},
   "outputs": [
    {
     "data": {
      "text/plain": [
       "0.8310334703464475"
      ]
     },
     "execution_count": 42,
     "metadata": {},
     "output_type": "execute_result"
    }
   ],
   "source": [
    "model.fit(X_train, y_train, DecisionTreeRegressor,init_model=SGDClassifier)\n",
    "accuracy_score(y_test, model.predict(X_test))"
   ]
  },
  {
   "cell_type": "code",
   "execution_count": 43,
   "metadata": {},
   "outputs": [
    {
     "data": {
      "text/plain": [
       "0.8787433940105696"
      ]
     },
     "execution_count": 43,
     "metadata": {},
     "output_type": "execute_result"
    }
   ],
   "source": [
    "model.fit(X_train, y_train, DecisionTreeRegressor,init_model=SVC)\n",
    "accuracy_score(y_test, model.predict(X_test))"
   ]
  },
  {
   "cell_type": "code",
   "execution_count": 44,
   "metadata": {},
   "outputs": [
    {
     "data": {
      "text/plain": [
       "0.8805049911920141"
      ]
     },
     "execution_count": 44,
     "metadata": {},
     "output_type": "execute_result"
    }
   ],
   "source": [
    "model.fit(X_train, y_train, DecisionTreeRegressor,init_model=RandomForestRegressor)\n",
    "accuracy_score(y_test, model.predict(X_test))"
   ]
  },
  {
   "cell_type": "markdown",
   "metadata": {},
   "source": [
    "Ну тут явно побеждает randomforest, так как он изначально уже выдает хорошее направление"
   ]
  },
  {
   "cell_type": "markdown",
   "metadata": {},
   "source": [
    "## Фидбек (бесценно)"
   ]
  },
  {
   "cell_type": "markdown",
   "metadata": {},
   "source": [
    "* Какие аспекты обучения  ансамблей Вам показались непонятными? Какое место стоит дополнительно объяснить?"
   ]
  },
  {
   "cell_type": "markdown",
   "metadata": {},
   "source": [
    "### Ваш ответ здесь"
   ]
  },
  {
   "cell_type": "markdown",
   "metadata": {},
   "source": [
    "* Здесь Вы можете оставить отзыв о этой домашней работе или о всем курсе."
   ]
  },
  {
   "cell_type": "markdown",
   "metadata": {},
   "source": [
    "### ВАШ ОТЗЫВ ЗДЕСЬ\n",
    "\n"
   ]
  },
  {
   "cell_type": "code",
   "execution_count": null,
   "metadata": {
    "collapsed": true
   },
   "outputs": [],
   "source": [
    "Все супер!Было бы круто, если бы в курсе появились конспекты лекций в pdf формате, в каком-то более развернутом виде. "
   ]
  },
  {
   "cell_type": "code",
   "execution_count": null,
   "metadata": {
    "collapsed": true
   },
   "outputs": [],
   "source": []
  }
 ],
 "metadata": {
  "anaconda-cloud": {},
  "kernelspec": {
   "display_name": "Python 3",
   "language": "python",
   "name": "python3"
  },
  "language_info": {
   "codemirror_mode": {
    "name": "ipython",
    "version": 3
   },
   "file_extension": ".py",
   "mimetype": "text/x-python",
   "name": "python",
   "nbconvert_exporter": "python",
   "pygments_lexer": "ipython3",
   "version": "3.8.8"
  }
 },
 "nbformat": 4,
 "nbformat_minor": 2
}
